{
 "cells": [
  {
   "cell_type": "markdown",
   "metadata": {},
   "source": [
    "<center>\n",
    "    <img src=\"https://cf-courses-data.s3.us.cloud-object-storage.appdomain.cloud/IBMDeveloperSkillsNetwork-DS0105EN-SkillsNetwork/labs/Module2/images/SN_web_lightmode.png\" width=\"300\" alt=\"cognitiveclass.ai logo\">\n",
    "</center>\n"
   ]
  },
  {
   "cell_type": "markdown",
   "metadata": {},
   "source": [
    "DataScienceEcosystem.ipynb"
   ]
  },
  {
   "cell_type": "markdown",
   "metadata": {},
   "source": [
    "# Data Science Tools and Ecosystem"
   ]
  },
  {
   "cell_type": "markdown",
   "metadata": {
    "tags": []
   },
   "source": [
    "# Summary of Data Science Tools and Ecosystem\n",
    "\n",
    "The data science ecosystem is a diverse landscape of tools and technologies aimed at extracting insights from data. Here, we'll provide a brief overview of some key components within this ecosystem.\n",
    "\n",
    "## Programming Languages\n",
    "\n",
    "Python and R are two primary programming languages used extensively in data science. They offer a wide range of libraries and frameworks tailored for various tasks such as data manipulation, analysis, and machine learning.\n",
    "\n",
    "## Libraries and Frameworks\n",
    "\n",
    "- **NumPy**: Provides support for large, multi-dimensional arrays and matrices.\n",
    "- **pandas**: Offers data structures and tools for data manipulation and analysis.\n",
    "- **scikit-learn**: A versatile library for machine learning tasks such as classification, regression, clustering, and more.\n",
    "- **TensorFlow** and **PyTorch**: Deep learning frameworks enabling the development of neural network models.\n",
    "\n",
    "## Visualization Tools\n",
    "\n",
    "Effective visualization is crucial for communicating insights from data. Some popular visualization tools include:\n",
    "\n",
    "- **Matplotlib**: A versatile plotting library for creating static, interactive, and animated visualizations.\n",
    "- **Seaborn**: Built on top of Matplotlib, Seaborn offers a high-level interface for creating attractive statistical graphics.\n",
    "- **Plotly**: Provides interactive and web-based visualizations with a wide range of chart types.\n",
    "\n",
    "## Development Environments\n",
    "\n",
    "Interactive development environments (IDEs) and notebooks are essential for data exploration and analysis. Notable options include:\n",
    "\n",
    "- **Jupyter Notebooks**: Allows users to create and share documents containing live code, equations, visualizations, and narrative text.\n",
    "- **RStudio**: An integrated development environment for R, offering features for data analysis, visualization, and report generation.\n",
    "\n",
    "## Cloud Computing Services\n",
    "\n",
    "Cloud platforms provide scalable infrastructure for data storage, processing, and deployment of machine learning models. Key players in this space include:\n",
    "\n",
    "- **AWS (Amazon Web Services)**\n",
    "- **Google Cloud Platform (GCP)**\n",
    "- **Microsoft Azure**\n",
    "\n",
    "These platforms offer a wide range of services tailored for data science tasks, including data warehousing, big data processing, and machine learning model hosting.\n",
    "\n",
    "## Conclusion\n",
    "\n",
    "The data science ecosystem is dynamic, with new tools and technologies continually emerging to address the evolving needs of data professionals. By leveraging these tools effectively, practitioners can unlock valuable insights from data and drive impactful decision-making processes.\n"
   ]
  },
  {
   "cell_type": "markdown",
   "metadata": {},
   "source": [
    "Some of the popular languages that Data Scientists use are:\n",
    "\n",
    "1. Python\n",
    "2. R\n",
    "3. SQL\n",
    "4. Julia"
   ]
  },
  {
   "cell_type": "markdown",
   "metadata": {},
   "source": [
    "Some of the commonly used libraries used by Data Scientists include:\n",
    "\n",
    "1. NumPy\n",
    "2. pandas\n",
    "3. scikit-learn\n",
    "4. TensorFlow\n"
   ]
  },
  {
   "cell_type": "markdown",
   "metadata": {},
   "source": [
    "| Data Science Tools |\n",
    "|---------------------|\n",
    "| Jupyter Notebooks   |\n",
    "| RStudio             |\n",
    "| Spyder              |\n"
   ]
  },
  {
   "cell_type": "markdown",
   "metadata": {},
   "source": [
    "### Below are a few examples of evaluating arithmetic expressions in Python.\n"
   ]
  },
  {
   "cell_type": "markdown",
   "metadata": {
    "jp-MarkdownHeadingCollapsed": true,
    "tags": []
   },
   "source": [
    "# This is a simple arithmetic expression to multiply then add integers.\n",
    "result = (3 * 4) + 5\n",
    "print(result)\n"
   ]
  },
  {
   "cell_type": "markdown",
   "metadata": {},
   "source": [
    "# This will convert 200 minutes to hours by dividing by 60.\n",
    "minutes = 200\n",
    "hours = minutes / 60\n",
    "hours\n"
   ]
  },
  {
   "cell_type": "markdown",
   "metadata": {},
   "source": [
    "**Objectives:**\n",
    "\n",
    "- List popular languages for Data Science.\n",
    "- Summarize commonly used libraries in data science.\n",
    "- Provide an overview of the data science ecosystem.\n",
    "- Discuss the importance of visualization tools in data analysis.\n",
    "- Explore cloud computing services for data science tasks.\n",
    "- Highlight best practices for data preprocessing.\n",
    "- Discuss some common data science tools\n",
    "- Discuss arithmetic expression\n"
   ]
  },
  {
   "cell_type": "markdown",
   "metadata": {},
   "source": [
    "## Author\n",
    "\n",
    "Ewegbeje Demilade\n"
   ]
  }
 ],
 "metadata": {
  "kernelspec": {
   "display_name": "Python",
   "language": "python",
   "name": "conda-env-python-py"
  },
  "language_info": {
   "codemirror_mode": {
    "name": "ipython",
    "version": 3
   },
   "file_extension": ".py",
   "mimetype": "text/x-python",
   "name": "python",
   "nbconvert_exporter": "python",
   "pygments_lexer": "ipython3",
   "version": "3.7.12"
  }
 },
 "nbformat": 4,
 "nbformat_minor": 4
}
